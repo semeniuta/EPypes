{
 "cells": [
  {
   "cell_type": "code",
   "execution_count": 1,
   "metadata": {
    "collapsed": false
   },
   "outputs": [],
   "source": [
    "%matplotlib inline\n",
    "%load_ext autoreload\n",
    "%autoreload 2\n",
    "import sys, os\n",
    "sys.path.append('..')"
   ]
  },
  {
   "cell_type": "code",
   "execution_count": 64,
   "metadata": {
    "collapsed": false
   },
   "outputs": [],
   "source": [
    "import inspect\n",
    "from io import StringIO\n",
    "\n",
    "from epypes import dag"
   ]
  },
  {
   "cell_type": "code",
   "execution_count": 3,
   "metadata": {
    "collapsed": false
   },
   "outputs": [],
   "source": [
    "g = dag.Digraph(range(10), [(0, 1), (5, 4), (5, 6)])"
   ]
  },
  {
   "cell_type": "code",
   "execution_count": 4,
   "metadata": {
    "collapsed": false
   },
   "outputs": [
    {
     "data": {
      "text/plain": [
       "{0: [], 1: [0], 2: [], 3: [], 4: [5], 5: [], 6: [5], 7: [], 8: [], 9: []}"
      ]
     },
     "execution_count": 4,
     "metadata": {},
     "output_type": "execute_result"
    }
   ],
   "source": [
    "g.reverse()._adj"
   ]
  },
  {
   "cell_type": "code",
   "execution_count": null,
   "metadata": {
    "collapsed": true
   },
   "outputs": [],
   "source": []
  },
  {
   "cell_type": "code",
   "execution_count": 5,
   "metadata": {
    "collapsed": false
   },
   "outputs": [
    {
     "data": {
      "text/plain": [
       "{'a': ['plus'],\n",
       " 'b': ['plus'],\n",
       " 'plus': ['s'],\n",
       " 'res': [],\n",
       " 's': ['triple'],\n",
       " 'triple': ['res']}"
      ]
     },
     "execution_count": 5,
     "metadata": {},
     "output_type": "execute_result"
    }
   ],
   "source": [
    "def plus(a, b):\n",
    "    return a + b\n",
    "\n",
    "def triple(x):\n",
    "    return 3 * x\n",
    "\n",
    "cg = dag.ComputationalGraph([plus, triple], ['a', 'b', 's', 'res'])\n",
    "cg.add_edge('a', 'plus')\n",
    "cg.add_edge('b', 'plus')\n",
    "cg.add_edge('plus', 's')\n",
    "cg.add_edge('s', 'triple')\n",
    "cg.add_edge('triple', 'res')\n",
    "\n",
    "cg._adj"
   ]
  },
  {
   "cell_type": "code",
   "execution_count": 6,
   "metadata": {
    "collapsed": false
   },
   "outputs": [
    {
     "data": {
      "text/plain": [
       "{'plus': <function __main__.plus>, 'triple': <function __main__.triple>}"
      ]
     },
     "execution_count": 6,
     "metadata": {},
     "output_type": "execute_result"
    }
   ],
   "source": [
    "cg._functions"
   ]
  },
  {
   "cell_type": "code",
   "execution_count": 27,
   "metadata": {
    "collapsed": false
   },
   "outputs": [],
   "source": [
    "content_tinyDAG = '''\n",
    "13\n",
    "15\n",
    "2 3 \n",
    "0 6 \n",
    "0 1 \n",
    "2 0 \n",
    "11 12  \n",
    "9 12  \n",
    "9 10  \n",
    "9 11 \n",
    "3 5 \n",
    "8 7 \n",
    "5 4 \n",
    "0 5 \n",
    "6 4 \n",
    "6 9 \n",
    "7 6\n",
    "'''"
   ]
  },
  {
   "cell_type": "code",
   "execution_count": 29,
   "metadata": {
    "collapsed": true
   },
   "outputs": [],
   "source": [
    "content_tinyDG = '''\n",
    "13\n",
    "22\n",
    " 4  2\n",
    " 2  3\n",
    " 3  2\n",
    " 6  0\n",
    " 0  1\n",
    " 2  0\n",
    "11 12\n",
    "12  9\n",
    " 9 10\n",
    " 9 11\n",
    " 7  9\n",
    "10 12\n",
    "11  4\n",
    " 4  3\n",
    " 3  5\n",
    " 6  8\n",
    " 8  6\n",
    " 5  4\n",
    " 0  5\n",
    " 6  4\n",
    " 6  9\n",
    " 7  6\n",
    "'''"
   ]
  },
  {
   "cell_type": "code",
   "execution_count": 74,
   "metadata": {
    "collapsed": false
   },
   "outputs": [
    {
     "name": "stdout",
     "output_type": "stream",
     "text": [
      "0 1 [0]\n",
      "0 5 [0]\n",
      "5 4 [0, 5]\n",
      "4 2 [0, 4, 5]\n",
      "2 3 [0, 2, 4, 5]\n",
      "3 2 [0, 2, 3, 4, 5]\n",
      "2 is on stack!\n",
      "[3, 2, 3]\n",
      "3 5 [0, 2, 3, 4, 5]\n",
      "2 0 [0, 2, 3, 4, 5]\n",
      "4 3 [0, 2, 3, 4, 5]\n",
      "6 0 [2, 3, 4, 6]\n",
      "7 9 [2, 3, 4, 6, 7]\n",
      "8 6 [2, 3, 4, 6, 7, 8]\n",
      "9 10 [2, 3, 4, 6, 7, 8, 9]\n",
      "10 12 [2, 3, 4, 6, 7, 8, 9, 10]\n",
      "11 12 [2, 3, 4, 6, 7, 8, 9, 10, 11]\n",
      "12 9 [2, 3, 4, 6, 7, 8, 9, 10, 11, 12]\n"
     ]
    }
   ],
   "source": [
    "from epypes import dag\n",
    "\n",
    "def read_graph(buf):\n",
    "    buf.readline()\n",
    "    num_vertices = int(buf.readline().strip())\n",
    "    num_edges = int(buf.readline().strip())\n",
    "    \n",
    "    edges = []\n",
    "    for pair in buf:\n",
    "        a, b = pair.strip().split()\n",
    "        edges.append((int(a), int(b)))\n",
    "    \n",
    "    return num_vertices, num_edges, edges\n",
    "        \n",
    "        \n",
    "buf = StringIO(content_tinyDG)\n",
    "num_vertices, num_edges, edges = read_graph(buf)\n",
    "\n",
    "tinyDG = dag.Digraph(range(num_vertices), edges)\n",
    "\n",
    "dc = dag.DirectedCycle(tinyDG)"
   ]
  },
  {
   "cell_type": "code",
   "execution_count": 82,
   "metadata": {
    "collapsed": false
   },
   "outputs": [],
   "source": [
    "from epypes import dag\n",
    "        \n",
    "num_vertices, num_edges, edges = read_graph(StringIO(content_tinyDAG))\n",
    "\n",
    "tinyDAG = dag.Digraph(range(num_vertices), edges)\n",
    "\n",
    "dc = dag.DirectedCycle(tinyDAG)\n",
    "dfo = dag.DepthFirstOrder(tinyDAG)"
   ]
  },
  {
   "cell_type": "code",
   "execution_count": 87,
   "metadata": {
    "collapsed": false
   },
   "outputs": [
    {
     "name": "stdout",
     "output_type": "stream",
     "text": [
      "8 [7]\n",
      "7 [6]\n",
      "2 [3, 0]\n",
      "3 [5]\n",
      "0 [6, 1, 5]\n",
      "5 [4]\n",
      "1 []\n",
      "6 [4, 9]\n",
      "9 [12, 10, 11]\n",
      "11 [12]\n",
      "10 []\n",
      "12 []\n",
      "4 []\n"
     ]
    }
   ],
   "source": [
    "for v in dfo.reverse_postorder:\n",
    "    print(v, tinyDAG.adj(v))"
   ]
  },
  {
   "cell_type": "code",
   "execution_count": null,
   "metadata": {
    "collapsed": false
   },
   "outputs": [],
   "source": []
  },
  {
   "cell_type": "code",
   "execution_count": null,
   "metadata": {
    "collapsed": true
   },
   "outputs": [],
   "source": []
  }
 ],
 "metadata": {
  "anaconda-cloud": {},
  "kernelspec": {
   "display_name": "Python [py35]",
   "language": "python",
   "name": "Python [py35]"
  },
  "language_info": {
   "codemirror_mode": {
    "name": "ipython",
    "version": 3
   },
   "file_extension": ".py",
   "mimetype": "text/x-python",
   "name": "python",
   "nbconvert_exporter": "python",
   "pygments_lexer": "ipython3",
   "version": "3.5.2"
  }
 },
 "nbformat": 4,
 "nbformat_minor": 0
}
