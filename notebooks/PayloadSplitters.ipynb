{
 "cells": [
  {
   "cell_type": "code",
   "execution_count": 10,
   "metadata": {},
   "outputs": [
    {
     "name": "stdout",
     "output_type": "stream",
     "text": [
      "The autoreload extension is already loaded. To reload it, use:\n",
      "  %reload_ext autoreload\n"
     ]
    }
   ],
   "source": [
    "%matplotlib inline\n",
    "%load_ext autoreload\n",
    "%autoreload 2\n",
    "import sys, os\n",
    "opj = os.path.join\n",
    "CODE_DIR = os.path.abspath('../..')\n",
    "sys.path.append(opj(CODE_DIR, 'EPypes'))"
   ]
  },
  {
   "cell_type": "code",
   "execution_count": 11,
   "metadata": {},
   "outputs": [],
   "source": [
    "import numpy as np\n",
    "import pandas as pd\n",
    "\n",
    "from epypes.payload import copy_input_splitter, elementwise_input_splitter, equal_input_splitter\n",
    "from epypes.payload import split_payload_and_build_tokens"
   ]
  },
  {
   "cell_type": "code",
   "execution_count": 12,
   "metadata": {
    "collapsed": true
   },
   "outputs": [],
   "source": [
    "token = list(range(10))"
   ]
  },
  {
   "cell_type": "code",
   "execution_count": 21,
   "metadata": {},
   "outputs": [
    {
     "data": {
      "text/plain": [
       "([0, 1, 2, 3, 4, 5, 6, 7, 8, 9],\n",
       " [0, 1, 2, 3, 4, 5, 6, 7, 8, 9],\n",
       " [0, 1, 2, 3, 4, 5, 6, 7, 8, 9],\n",
       " [0, 1, 2, 3, 4, 5, 6, 7, 8, 9])"
      ]
     },
     "execution_count": 21,
     "metadata": {},
     "output_type": "execute_result"
    }
   ],
   "source": [
    "copy_input_splitter(token, 4)"
   ]
  },
  {
   "cell_type": "code",
   "execution_count": 22,
   "metadata": {},
   "outputs": [
    {
     "data": {
      "text/plain": [
       "((1, 2, 3, None), (1, 2, 3, 4))"
      ]
     },
     "execution_count": 22,
     "metadata": {},
     "output_type": "execute_result"
    }
   ],
   "source": [
    "elementwise_input_splitter([1, 2, 3], 4), elementwise_input_splitter([1, 2, 3, 4], 4)"
   ]
  },
  {
   "cell_type": "code",
   "execution_count": 16,
   "metadata": {},
   "outputs": [
    {
     "data": {
      "text/plain": [
       "(0, 1, 2, 3)"
      ]
     },
     "execution_count": 16,
     "metadata": {},
     "output_type": "execute_result"
    }
   ],
   "source": [
    "res = equal_input_splitter(np.arange(4), 4)\n",
    "res"
   ]
  },
  {
   "cell_type": "code",
   "execution_count": 17,
   "metadata": {},
   "outputs": [],
   "source": [
    "df = pd.DataFrame(np.random.random((22, 4)))"
   ]
  },
  {
   "cell_type": "code",
   "execution_count": 24,
   "metadata": {},
   "outputs": [
    {
     "data": {
      "text/plain": [
       "((          0         1         2         3\n",
       "  0  0.867013  0.710740  0.225180  0.422621\n",
       "  1  0.285921  0.490007  0.766751  0.007714\n",
       "  2  0.919959  0.270047  0.798399  0.252904\n",
       "  3  0.148252  0.321714  0.365502  0.302581\n",
       "  4  0.792313  0.236857  0.545031  0.373205\n",
       "  5  0.026710  0.687142  0.211855  0.008058, 'This is cool', 'Dzidzio'),\n",
       " (           0         1         2         3\n",
       "  6   0.546409  0.458249  0.963756  0.821088\n",
       "  7   0.452643  0.347965  0.987288  0.031761\n",
       "  8   0.481406  0.906341  0.857688  0.261288\n",
       "  9   0.234338  0.980177  0.383971  0.920807\n",
       "  10  0.648727  0.771038  0.995808  0.773670\n",
       "  11  0.365045  0.797988  0.446943  0.114803, 'This is cool', 'Dzidzio'),\n",
       " (           0         1         2         3\n",
       "  12  0.071754  0.932402  0.726894  0.619218\n",
       "  13  0.139030  0.547321  0.505218  0.142531\n",
       "  14  0.735667  0.841485  0.491926  0.119000\n",
       "  15  0.666337  0.696431  0.392670  0.093574\n",
       "  16  0.181072  0.491011  0.331212  0.330176\n",
       "  17  0.279427  0.750787  0.332194  0.345181, 'This is cool', 'Dzidzio'),\n",
       " (           0         1         2         3\n",
       "  18  0.362683  0.855761  0.277138  0.810441\n",
       "  19  0.995388  0.671557  0.336501  0.690303\n",
       "  20  0.458829  0.941125  0.935169  0.388642\n",
       "  21  0.865540  0.603701  0.672408  0.821136, 'This is cool', 'Dzidzio'))"
      ]
     },
     "execution_count": 24,
     "metadata": {},
     "output_type": "execute_result"
    }
   ],
   "source": [
    "split_payload_and_build_tokens((df, 'This is cool', 'Dzidzio'), equal_input_splitter, 4, 0)"
   ]
  },
  {
   "cell_type": "code",
   "execution_count": null,
   "metadata": {
    "collapsed": true
   },
   "outputs": [],
   "source": []
  }
 ],
 "metadata": {
  "anaconda-cloud": {},
  "kernelspec": {
   "display_name": "Python 3",
   "language": "python",
   "name": "python3"
  },
  "language_info": {
   "codemirror_mode": {
    "name": "ipython",
    "version": 3
   },
   "file_extension": ".py",
   "mimetype": "text/x-python",
   "name": "python",
   "nbconvert_exporter": "python",
   "pygments_lexer": "ipython3",
   "version": "3.6.1"
  }
 },
 "nbformat": 4,
 "nbformat_minor": 1
}
