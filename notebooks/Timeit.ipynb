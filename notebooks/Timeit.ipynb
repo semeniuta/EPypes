{
 "cells": [
  {
   "cell_type": "code",
   "execution_count": 2,
   "metadata": {
    "collapsed": true
   },
   "outputs": [],
   "source": [
    "from primitives import *"
   ]
  },
  {
   "cell_type": "code",
   "execution_count": 19,
   "metadata": {
    "collapsed": false
   },
   "outputs": [],
   "source": [
    "mask = '/Users/alex/Dropbox/PhD/Project_FlexVi/DATA/IMG/calib/sw-cb-1/*.bmp'\n",
    "\n",
    "def open_random_image():\n",
    "    import random\n",
    "    import glob\n",
    "    from flexvi.core.images import open_image\n",
    "\n",
    "    files = glob.glob(mask)\n",
    "    ind =  random.randint(0, len(files) - 1)\n",
    "    return open_image(files[ind])\n",
    "\n",
    "\n",
    "def min_max(im):\n",
    "    import numpy as np\n",
    "    return np.min(im), np.max(im)\n",
    "\n",
    "def traditional():\n",
    "    im = open_random_image()\n",
    "    res = min_max(im)\n",
    "    #print im\n",
    "    #print res\n",
    "    \n",
    "def actor_based():\n",
    "    g = Actor('grabber', open_random_image)\n",
    "    m = Actor('minmax', min_max)\n",
    "    g.output_port.connect(m.input_ports[0])\n",
    "    g.fire()\n",
    "    #print g.output_port.dst_link.token\n",
    "    m.input_ports[0].pull_from_link()\n",
    "    m.fire()\n",
    "    #print m.output_port.buffer"
   ]
  },
  {
   "cell_type": "code",
   "execution_count": 22,
   "metadata": {
    "collapsed": false
   },
   "outputs": [
    {
     "name": "stdout",
     "output_type": "stream",
     "text": [
      "100 loops, best of 3: 14 ms per loop\n"
     ]
    }
   ],
   "source": [
    "%timeit traditional()"
   ]
  },
  {
   "cell_type": "code",
   "execution_count": 23,
   "metadata": {
    "collapsed": false
   },
   "outputs": [
    {
     "name": "stdout",
     "output_type": "stream",
     "text": [
      "100 loops, best of 3: 14.2 ms per loop\n"
     ]
    }
   ],
   "source": [
    "%timeit actor_based()"
   ]
  },
  {
   "cell_type": "code",
   "execution_count": null,
   "metadata": {
    "collapsed": false
   },
   "outputs": [],
   "source": []
  },
  {
   "cell_type": "code",
   "execution_count": null,
   "metadata": {
    "collapsed": false
   },
   "outputs": [],
   "source": []
  },
  {
   "cell_type": "code",
   "execution_count": null,
   "metadata": {
    "collapsed": true
   },
   "outputs": [],
   "source": []
  }
 ],
 "metadata": {
  "kernelspec": {
   "display_name": "Python 2",
   "language": "python",
   "name": "python2"
  },
  "language_info": {
   "codemirror_mode": {
    "name": "ipython",
    "version": 2
   },
   "file_extension": ".py",
   "mimetype": "text/x-python",
   "name": "python",
   "nbconvert_exporter": "python",
   "pygments_lexer": "ipython2",
   "version": "2.7.10"
  }
 },
 "nbformat": 4,
 "nbformat_minor": 0
}
