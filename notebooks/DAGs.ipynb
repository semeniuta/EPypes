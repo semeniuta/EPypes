{
 "cells": [
  {
   "cell_type": "code",
   "execution_count": 6,
   "metadata": {
    "collapsed": false
   },
   "outputs": [
    {
     "name": "stdout",
     "output_type": "stream",
     "text": [
      "The autoreload extension is already loaded. To reload it, use:\n",
      "  %reload_ext autoreload\n"
     ]
    }
   ],
   "source": [
    "%matplotlib inline\n",
    "%load_ext autoreload\n",
    "%autoreload 2\n",
    "import sys, os\n",
    "sys.path.append('..')"
   ]
  },
  {
   "cell_type": "code",
   "execution_count": 32,
   "metadata": {
    "collapsed": false
   },
   "outputs": [],
   "source": [
    "import inspect\n",
    "from io import StringIO\n",
    "\n",
    "from epypes import dag"
   ]
  },
  {
   "cell_type": "code",
   "execution_count": 8,
   "metadata": {
    "collapsed": false
   },
   "outputs": [],
   "source": [
    "g = dag.Digraph(range(10), [(0, 1), (5, 4), (5, 6)])"
   ]
  },
  {
   "cell_type": "code",
   "execution_count": 9,
   "metadata": {
    "collapsed": false
   },
   "outputs": [
    {
     "data": {
      "text/plain": [
       "{0: [], 1: [0], 2: [], 3: [], 4: [5], 5: [], 6: [5], 7: [], 8: [], 9: []}"
      ]
     },
     "execution_count": 9,
     "metadata": {},
     "output_type": "execute_result"
    }
   ],
   "source": [
    "g.reverse()._adj"
   ]
  },
  {
   "cell_type": "code",
   "execution_count": null,
   "metadata": {
    "collapsed": true
   },
   "outputs": [],
   "source": []
  },
  {
   "cell_type": "code",
   "execution_count": 34,
   "metadata": {
    "collapsed": false
   },
   "outputs": [
    {
     "name": "stdout",
     "output_type": "stream",
     "text": [
      "Looking at vertex triple\n",
      "dfs-start triple\n",
      "triple {'res': False, 'b': False, 'a': False, 'triple': True, 'plus': False, 's': False} ['res'] ['res']\n",
      "res is not marked\n",
      "dfs-start res\n",
      "res {'res': True, 'b': False, 'a': False, 'triple': True, 'plus': False, 's': False} [] []\n",
      "dfs-end res\n",
      "dfs-end triple\n",
      "Looking at vertex plus\n",
      "dfs-start plus\n",
      "plus {'res': True, 'b': False, 'a': False, 'triple': True, 'plus': True, 's': False} ['s'] ['s']\n",
      "s is not marked\n",
      "dfs-start s\n",
      "s {'res': True, 'b': False, 'a': False, 'triple': True, 'plus': True, 's': True} ['triple'] ['triple']\n",
      "dfs-end s\n",
      "dfs-end plus\n",
      "Looking at vertex a\n",
      "dfs-start a\n",
      "a {'res': True, 'b': False, 'a': True, 'triple': True, 'plus': True, 's': True} ['plus'] ['plus']\n",
      "dfs-end a\n",
      "Looking at vertex res\n",
      "Looking at vertex b\n",
      "dfs-start b\n",
      "b {'res': True, 'b': True, 'a': True, 'triple': True, 'plus': True, 's': True} ['plus'] ['plus']\n",
      "dfs-end b\n",
      "Looking at vertex s\n",
      "{'res': [], 'b': ['plus'], 'a': ['plus'], 'triple': ['res'], 'plus': ['s'], 's': ['triple']}\n",
      "b ['plus']\n",
      "a ['plus']\n",
      "plus ['s']\n",
      "s ['triple']\n",
      "triple ['res']\n",
      "res []\n"
     ]
    }
   ],
   "source": [
    "def plus(a, b):\n",
    "    return a + b\n",
    "\n",
    "def triple(x):\n",
    "    return 3 * x\n",
    "\n",
    "cg = dag.ComputationalGraph([plus, triple], ['a', 'b', 's', 'res'])\n",
    "cg.add_edge('a', 'plus')\n",
    "cg.add_edge('b', 'plus')\n",
    "cg.add_edge('plus', 's')\n",
    "cg.add_edge('s', 'triple')\n",
    "cg.add_edge('triple', 'res')\n",
    "\n",
    "cg.do_dfo()\n",
    "\n",
    "print(cg._G._adj)\n",
    "\n",
    "for v in cg._dfo.reverse_postorder:\n",
    "    print(v, cg._G.adj(v))"
   ]
  },
  {
   "cell_type": "code",
   "execution_count": 35,
   "metadata": {
    "collapsed": false
   },
   "outputs": [
    {
     "data": {
      "text/plain": [
       "(['res', 'triple', 's', 'plus', 'a', 'b'],\n",
       " {'a', 'b', 'plus', 'res', 's', 'triple'})"
      ]
     },
     "execution_count": 35,
     "metadata": {},
     "output_type": "execute_result"
    }
   ],
   "source": [
    "cg._dfo.postorder, cg._G.vertices"
   ]
  },
  {
   "cell_type": "code",
   "execution_count": 21,
   "metadata": {
    "collapsed": false
   },
   "outputs": [
    {
     "data": {
      "text/plain": [
       "{'plus': <function __main__.plus>, 'triple': <function __main__.triple>}"
      ]
     },
     "execution_count": 21,
     "metadata": {},
     "output_type": "execute_result"
    }
   ],
   "source": [
    "cg._functions"
   ]
  },
  {
   "cell_type": "code",
   "execution_count": 12,
   "metadata": {
    "collapsed": false
   },
   "outputs": [],
   "source": [
    "content_tinyDAG = '''\n",
    "13\n",
    "15\n",
    "2 3 \n",
    "0 6 \n",
    "0 1 \n",
    "2 0 \n",
    "11 12  \n",
    "9 12  \n",
    "9 10  \n",
    "9 11 \n",
    "3 5 \n",
    "8 7 \n",
    "5 4 \n",
    "0 5 \n",
    "6 4 \n",
    "6 9 \n",
    "7 6\n",
    "'''"
   ]
  },
  {
   "cell_type": "code",
   "execution_count": 13,
   "metadata": {
    "collapsed": true
   },
   "outputs": [],
   "source": [
    "content_tinyDG = '''\n",
    "13\n",
    "22\n",
    " 4  2\n",
    " 2  3\n",
    " 3  2\n",
    " 6  0\n",
    " 0  1\n",
    " 2  0\n",
    "11 12\n",
    "12  9\n",
    " 9 10\n",
    " 9 11\n",
    " 7  9\n",
    "10 12\n",
    "11  4\n",
    " 4  3\n",
    " 3  5\n",
    " 6  8\n",
    " 8  6\n",
    " 5  4\n",
    " 0  5\n",
    " 6  4\n",
    " 6  9\n",
    " 7  6\n",
    "'''"
   ]
  },
  {
   "cell_type": "code",
   "execution_count": 14,
   "metadata": {
    "collapsed": false
   },
   "outputs": [],
   "source": [
    "from epypes import dag\n",
    "\n",
    "def read_graph(buf):\n",
    "    buf.readline()\n",
    "    num_vertices = int(buf.readline().strip())\n",
    "    num_edges = int(buf.readline().strip())\n",
    "    \n",
    "    edges = []\n",
    "    for pair in buf:\n",
    "        a, b = pair.strip().split()\n",
    "        edges.append((int(a), int(b)))\n",
    "    \n",
    "    return num_vertices, num_edges, edges\n",
    "        \n",
    "        \n",
    "buf = StringIO(content_tinyDG)\n",
    "num_vertices, num_edges, edges = read_graph(buf)\n",
    "\n",
    "tinyDG = dag.Digraph(range(num_vertices), edges)\n",
    "\n",
    "dc = dag.DirectedCycle(tinyDG)"
   ]
  },
  {
   "cell_type": "code",
   "execution_count": 31,
   "metadata": {
    "collapsed": false
   },
   "outputs": [
    {
     "name": "stdout",
     "output_type": "stream",
     "text": [
      "Looking at vertex 0\n",
      "Looking at vertex 1\n",
      "Looking at vertex 2\n",
      "Looking at vertex 3\n",
      "Looking at vertex 4\n",
      "Looking at vertex 5\n",
      "Looking at vertex 6\n",
      "Looking at vertex 7\n",
      "Looking at vertex 8\n",
      "Looking at vertex 9\n",
      "Looking at vertex 10\n",
      "Looking at vertex 11\n",
      "Looking at vertex 12\n",
      "Looking at vertex 0\n",
      "dfs-start 0\n",
      "0 {0: True, 1: False, 2: False, 3: False, 4: False, 5: False, 6: False, 7: False, 8: False, 9: False, 10: False, 11: False, 12: False} [6, 1, 5] [6, 1, 5]\n",
      "6 is not marked\n",
      "dfs-start 6\n",
      "6 {0: True, 1: False, 2: False, 3: False, 4: False, 5: False, 6: True, 7: False, 8: False, 9: False, 10: False, 11: False, 12: False} [4, 9] [4, 9]\n",
      "4 is not marked\n",
      "dfs-start 4\n",
      "4 {0: True, 1: False, 2: False, 3: False, 4: True, 5: False, 6: True, 7: False, 8: False, 9: False, 10: False, 11: False, 12: False} [] []\n",
      "dfs-end 4\n",
      "9 is not marked\n",
      "dfs-start 9\n",
      "9 {0: True, 1: False, 2: False, 3: False, 4: True, 5: False, 6: True, 7: False, 8: False, 9: True, 10: False, 11: False, 12: False} [12, 10, 11] [12, 10, 11]\n",
      "12 is not marked\n",
      "dfs-start 12\n",
      "12 {0: True, 1: False, 2: False, 3: False, 4: True, 5: False, 6: True, 7: False, 8: False, 9: True, 10: False, 11: False, 12: True} [] []\n",
      "dfs-end 12\n",
      "10 is not marked\n",
      "dfs-start 10\n",
      "10 {0: True, 1: False, 2: False, 3: False, 4: True, 5: False, 6: True, 7: False, 8: False, 9: True, 10: True, 11: False, 12: True} [] []\n",
      "dfs-end 10\n",
      "11 is not marked\n",
      "dfs-start 11\n",
      "11 {0: True, 1: False, 2: False, 3: False, 4: True, 5: False, 6: True, 7: False, 8: False, 9: True, 10: True, 11: True, 12: True} [12] [12]\n",
      "dfs-end 11\n",
      "dfs-end 9\n",
      "dfs-end 6\n",
      "1 is not marked\n",
      "dfs-start 1\n",
      "1 {0: True, 1: True, 2: False, 3: False, 4: True, 5: False, 6: True, 7: False, 8: False, 9: True, 10: True, 11: True, 12: True} [] []\n",
      "dfs-end 1\n",
      "5 is not marked\n",
      "dfs-start 5\n",
      "5 {0: True, 1: True, 2: False, 3: False, 4: True, 5: True, 6: True, 7: False, 8: False, 9: True, 10: True, 11: True, 12: True} [4] [4]\n",
      "dfs-end 5\n",
      "dfs-end 0\n",
      "Looking at vertex 1\n",
      "Looking at vertex 2\n",
      "dfs-start 2\n",
      "2 {0: True, 1: True, 2: True, 3: False, 4: True, 5: True, 6: True, 7: False, 8: False, 9: True, 10: True, 11: True, 12: True} [3, 0] [3, 0]\n",
      "3 is not marked\n",
      "dfs-start 3\n",
      "3 {0: True, 1: True, 2: True, 3: True, 4: True, 5: True, 6: True, 7: False, 8: False, 9: True, 10: True, 11: True, 12: True} [5] [5]\n",
      "dfs-end 3\n",
      "dfs-end 2\n",
      "Looking at vertex 3\n",
      "Looking at vertex 4\n",
      "Looking at vertex 5\n",
      "Looking at vertex 6\n",
      "Looking at vertex 7\n",
      "dfs-start 7\n",
      "7 {0: True, 1: True, 2: True, 3: True, 4: True, 5: True, 6: True, 7: True, 8: False, 9: True, 10: True, 11: True, 12: True} [6] [6]\n",
      "dfs-end 7\n",
      "Looking at vertex 8\n",
      "dfs-start 8\n",
      "8 {0: True, 1: True, 2: True, 3: True, 4: True, 5: True, 6: True, 7: True, 8: True, 9: True, 10: True, 11: True, 12: True} [7] [7]\n",
      "dfs-end 8\n",
      "Looking at vertex 9\n",
      "Looking at vertex 10\n",
      "Looking at vertex 11\n",
      "Looking at vertex 12\n"
     ]
    }
   ],
   "source": [
    "from epypes import dag\n",
    "        \n",
    "num_vertices, num_edges, edges = read_graph(StringIO(content_tinyDAG))\n",
    "\n",
    "tinyDAG = dag.Digraph(range(num_vertices), edges)\n",
    "\n",
    "dc = dag.DirectedCycle(tinyDAG)\n",
    "dfo = dag.DepthFirstOrder(tinyDAG)"
   ]
  },
  {
   "cell_type": "code",
   "execution_count": 17,
   "metadata": {
    "collapsed": false
   },
   "outputs": [
    {
     "name": "stdout",
     "output_type": "stream",
     "text": [
      "8 [7]\n",
      "7 [6]\n",
      "2 [3, 0]\n",
      "3 [5]\n",
      "0 [6, 1, 5]\n",
      "5 [4]\n",
      "1 []\n",
      "6 [4, 9]\n",
      "9 [12, 10, 11]\n",
      "11 [12]\n",
      "10 []\n",
      "12 []\n",
      "4 []\n"
     ]
    }
   ],
   "source": [
    "for v in dfo.reverse_postorder:\n",
    "    print(v, tinyDAG.adj(v))"
   ]
  },
  {
   "cell_type": "code",
   "execution_count": null,
   "metadata": {
    "collapsed": false
   },
   "outputs": [],
   "source": []
  },
  {
   "cell_type": "code",
   "execution_count": null,
   "metadata": {
    "collapsed": true
   },
   "outputs": [],
   "source": []
  }
 ],
 "metadata": {
  "anaconda-cloud": {},
  "kernelspec": {
   "display_name": "Python [py35]",
   "language": "python",
   "name": "Python [py35]"
  },
  "language_info": {
   "codemirror_mode": {
    "name": "ipython",
    "version": 3
   },
   "file_extension": ".py",
   "mimetype": "text/x-python",
   "name": "python",
   "nbconvert_exporter": "python",
   "pygments_lexer": "ipython3",
   "version": "3.5.2"
  }
 },
 "nbformat": 4,
 "nbformat_minor": 0
}
