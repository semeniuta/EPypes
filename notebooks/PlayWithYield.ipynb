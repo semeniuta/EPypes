{
 "cells": [
  {
   "cell_type": "code",
   "execution_count": 1,
   "metadata": {
    "collapsed": true
   },
   "outputs": [],
   "source": [
    "%matplotlib inline\n",
    "%load_ext autoreload\n",
    "%autoreload 2\n",
    "import sys, os\n",
    "sys.path.append(os.path.abspath('../python'))"
   ]
  },
  {
   "cell_type": "code",
   "execution_count": 2,
   "metadata": {
    "collapsed": false
   },
   "outputs": [],
   "source": [
    "import random\n",
    "import time\n",
    "from concurrent import futures"
   ]
  },
  {
   "cell_type": "code",
   "execution_count": 3,
   "metadata": {
    "collapsed": false
   },
   "outputs": [],
   "source": [
    "def random_wait(do_func):\n",
    "    def wrapper():\n",
    "        wait_time = random.randint(2, 5)\n",
    "        time.sleep(wait_time)\n",
    "        do_func(wait_time)\n",
    "    return wrapper\n",
    "\n",
    "@random_wait\n",
    "def wait_and_say(t):\n",
    "    return \"Hello. I have waited %d seconds\" % t"
   ]
  },
  {
   "cell_type": "code",
   "execution_count": null,
   "metadata": {
    "collapsed": false
   },
   "outputs": [],
   "source": []
  },
  {
   "cell_type": "code",
   "execution_count": null,
   "metadata": {
    "collapsed": true
   },
   "outputs": [],
   "source": []
  },
  {
   "cell_type": "code",
   "execution_count": 4,
   "metadata": {
    "collapsed": false
   },
   "outputs": [],
   "source": [
    "def coroutine(func):\n",
    "    def wrapper(*args, **kvargs):\n",
    "        cr = func(*args, **kvargs)\n",
    "        cr.next()\n",
    "        return cr\n",
    "    return wrapper"
   ]
  },
  {
   "cell_type": "code",
   "execution_count": 5,
   "metadata": {
    "collapsed": false
   },
   "outputs": [],
   "source": [
    "@coroutine\n",
    "def worker():\n",
    "    \n",
    "    @random_wait\n",
    "    def f(t):\n",
    "        print 'Had to wait {0} seconds'.format(t)\n",
    "    \n",
    "    while True:\n",
    "        token = (yield)\n",
    "        print 'Received token: {0}'.format(token)\n",
    "        f()\n",
    "        if token == 'STOP':\n",
    "            break\n",
    "\n",
    "w = worker()"
   ]
  },
  {
   "cell_type": "code",
   "execution_count": 6,
   "metadata": {
    "collapsed": false
   },
   "outputs": [
    {
     "name": "stdout",
     "output_type": "stream",
     "text": [
      "Received token: 12\n",
      "Had to wait 2 seconds\n"
     ]
    }
   ],
   "source": [
    "w.send(12)"
   ]
  },
  {
   "cell_type": "code",
   "execution_count": 7,
   "metadata": {
    "collapsed": false
   },
   "outputs": [],
   "source": [
    "class Actor:\n",
    "    \n",
    "    def __init__(self, func, next_actor=None):\n",
    "        self.func = coroutine(func)\n",
    "        self.next_actor = next_actor\n",
    "        \n",
    "    def send(self, token):\n",
    "        self.func.send(token)\n",
    "    \n",
    "    def next(self):\n",
    "        while True:\n",
    "            token = (yield)\n",
    "            res = self.func(token)\n",
    "            if self.next_actor == None:\n",
    "                yield res\n",
    "            else:\n",
    "                yield self.next_actor()\n",
    "    \n",
    "    def __call__(self):\n",
    "        pass    \n",
    "            "
   ]
  },
  {
   "cell_type": "code",
   "execution_count": null,
   "metadata": {
    "collapsed": false
   },
   "outputs": [],
   "source": []
  },
  {
   "cell_type": "code",
   "execution_count": null,
   "metadata": {
    "collapsed": false
   },
   "outputs": [],
   "source": [
    "executor = futures.ProcessPoolExecutor()"
   ]
  },
  {
   "cell_type": "code",
   "execution_count": null,
   "metadata": {
    "collapsed": false
   },
   "outputs": [],
   "source": [
    "ftr = executor.submit(wait_and_say)\n",
    "print ftr.result()"
   ]
  },
  {
   "cell_type": "code",
   "execution_count": null,
   "metadata": {
    "collapsed": true
   },
   "outputs": [],
   "source": []
  },
  {
   "cell_type": "code",
   "execution_count": null,
   "metadata": {
    "collapsed": true
   },
   "outputs": [],
   "source": []
  }
 ],
 "metadata": {
  "kernelspec": {
   "display_name": "Python 2",
   "language": "python",
   "name": "python2"
  },
  "language_info": {
   "codemirror_mode": {
    "name": "ipython",
    "version": 2
   },
   "file_extension": ".py",
   "mimetype": "text/x-python",
   "name": "python",
   "nbconvert_exporter": "python",
   "pygments_lexer": "ipython2",
   "version": "2.7.11"
  }
 },
 "nbformat": 4,
 "nbformat_minor": 0
}
