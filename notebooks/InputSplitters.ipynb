{
 "cells": [
  {
   "cell_type": "code",
   "execution_count": 46,
   "metadata": {
    "collapsed": false
   },
   "outputs": [
    {
     "name": "stdout",
     "output_type": "stream",
     "text": [
      "The autoreload extension is already loaded. To reload it, use:\n",
      "  %reload_ext autoreload\n"
     ]
    }
   ],
   "source": [
    "%matplotlib inline\n",
    "%load_ext autoreload\n",
    "%autoreload 2\n",
    "import sys, os\n",
    "opj = os.path.join\n",
    "CODE_DIR = os.path.abspath('../..')\n",
    "sys.path.append(opj(CODE_DIR, 'EPypes'))"
   ]
  },
  {
   "cell_type": "code",
   "execution_count": 47,
   "metadata": {
    "collapsed": false
   },
   "outputs": [],
   "source": [
    "import numpy as np\n",
    "import pandas as pd\n",
    "\n",
    "from epypes.payload import copy_input_splitter, elementwise_input_splitter, equal_input_splitter\n",
    "from epypes.payload import split_payload_and_build_tokens"
   ]
  },
  {
   "cell_type": "code",
   "execution_count": 48,
   "metadata": {
    "collapsed": true
   },
   "outputs": [],
   "source": [
    "token = list(range(10))"
   ]
  },
  {
   "cell_type": "code",
   "execution_count": 49,
   "metadata": {
    "collapsed": false
   },
   "outputs": [
    {
     "data": {
      "text/plain": [
       "([0, 1, 2, 3, 4, 5, 6, 7, 8, 9],\n",
       " [0, 1, 2, 3, 4, 5, 6, 7, 8, 9],\n",
       " [0, 1, 2, 3, 4, 5, 6, 7, 8, 9],\n",
       " [0, 1, 2, 3, 4, 5, 6, 7, 8, 9])"
      ]
     },
     "execution_count": 49,
     "metadata": {},
     "output_type": "execute_result"
    }
   ],
   "source": [
    "split_payload_and_build_tokens(token, copy_input_splitter, 4)"
   ]
  },
  {
   "cell_type": "code",
   "execution_count": 50,
   "metadata": {
    "collapsed": false
   },
   "outputs": [
    {
     "data": {
      "text/plain": [
       "([0, 1, 2, 3, 4, 5, 6, 7, 8, 9],\n",
       " [0, 1, 2, 3, 4, 5, 6, 7, 8, 9],\n",
       " [0, 1, 2, 3, 4, 5, 6, 7, 8, 9],\n",
       " [0, 1, 2, 3, 4, 5, 6, 7, 8, 9])"
      ]
     },
     "execution_count": 50,
     "metadata": {},
     "output_type": "execute_result"
    }
   ],
   "source": [
    "copy_input_splitter(token, 4)"
   ]
  },
  {
   "cell_type": "code",
   "execution_count": 51,
   "metadata": {
    "collapsed": false
   },
   "outputs": [
    {
     "data": {
      "text/plain": [
       "((1, 2, 3, None), (1, 2, 3, 4))"
      ]
     },
     "execution_count": 51,
     "metadata": {},
     "output_type": "execute_result"
    }
   ],
   "source": [
    "elementwise_input_splitter([1, 2, 3], 4), elementwise_input_splitter([1, 2, 3, 4], 4)"
   ]
  },
  {
   "cell_type": "code",
   "execution_count": 52,
   "metadata": {
    "collapsed": false
   },
   "outputs": [
    {
     "data": {
      "text/plain": [
       "(0, 1, 2, 3)"
      ]
     },
     "execution_count": 52,
     "metadata": {},
     "output_type": "execute_result"
    }
   ],
   "source": [
    "res = equal_input_splitter(np.arange(4), 4)\n",
    "res"
   ]
  },
  {
   "cell_type": "code",
   "execution_count": 53,
   "metadata": {
    "collapsed": false
   },
   "outputs": [],
   "source": [
    "df = pd.DataFrame(np.random.random((22, 4)))"
   ]
  },
  {
   "cell_type": "code",
   "execution_count": 54,
   "metadata": {
    "collapsed": false
   },
   "outputs": [
    {
     "data": {
      "text/plain": [
       "((          0         1         2         3\n",
       "  0  0.483183  0.870387  0.880990  0.647062\n",
       "  1  0.822541  0.054912  0.230465  0.577855\n",
       "  2  0.890154  0.318140  0.753734  0.753179\n",
       "  3  0.372656  0.775432  0.776602  0.514283\n",
       "  4  0.589442  0.332641  0.121876  0.409306, 'This is cool', 'Dzidzio'),\n",
       " (          0         1         2         3\n",
       "  5  0.929403  0.205960  0.588973  0.775948\n",
       "  6  0.524142  0.585054  0.624530  0.003082\n",
       "  7  0.536640  0.952198  0.424068  0.975679\n",
       "  8  0.746970  0.543919  0.525101  0.899776\n",
       "  9  0.937491  0.297097  0.562091  0.814063, 'This is cool', 'Dzidzio'),\n",
       " (           0         1         2         3\n",
       "  10  0.608560  0.303656  0.818270  0.014041\n",
       "  11  0.469847  0.354758  0.081695  0.944630\n",
       "  12  0.699332  0.065234  0.018429  0.225814\n",
       "  13  0.592178  0.913790  0.321500  0.032889\n",
       "  14  0.630700  0.911048  0.361647  0.520205, 'This is cool', 'Dzidzio'),\n",
       " (           0         1         2         3\n",
       "  15  0.725476  0.531855  0.601325  0.322146\n",
       "  16  0.241664  0.805727  0.202766  0.158787\n",
       "  17  0.904572  0.420923  0.027230  0.788247\n",
       "  18  0.782043  0.227495  0.629626  0.305854\n",
       "  19  0.298851  0.259980  0.883575  0.942258\n",
       "  20  0.138032  0.348446  0.235046  0.469975\n",
       "  21  0.760772  0.141848  0.999243  0.778593, 'This is cool', 'Dzidzio'))"
      ]
     },
     "execution_count": 54,
     "metadata": {},
     "output_type": "execute_result"
    }
   ],
   "source": [
    "split_payload_and_build_tokens((df, 'This is cool', 'Dzidzio'), equal_input_splitter, 4, 0)"
   ]
  },
  {
   "cell_type": "code",
   "execution_count": null,
   "metadata": {
    "collapsed": true
   },
   "outputs": [],
   "source": []
  }
 ],
 "metadata": {
  "anaconda-cloud": {},
  "kernelspec": {
   "display_name": "Python [py35]",
   "language": "python",
   "name": "Python [py35]"
  },
  "language_info": {
   "codemirror_mode": {
    "name": "ipython",
    "version": 3
   },
   "file_extension": ".py",
   "mimetype": "text/x-python",
   "name": "python",
   "nbconvert_exporter": "python",
   "pygments_lexer": "ipython3",
   "version": "3.5.2"
  }
 },
 "nbformat": 4,
 "nbformat_minor": 0
}
