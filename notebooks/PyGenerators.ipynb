{
 "cells": [
  {
   "cell_type": "code",
   "execution_count": 1,
   "metadata": {
    "collapsed": true
   },
   "outputs": [],
   "source": [
    "# py35"
   ]
  },
  {
   "cell_type": "code",
   "execution_count": 2,
   "metadata": {
    "collapsed": true
   },
   "outputs": [],
   "source": [
    "%matplotlib inline\n",
    "%load_ext autoreload\n",
    "%autoreload 2\n",
    "import sys, os"
   ]
  },
  {
   "cell_type": "code",
   "execution_count": 3,
   "metadata": {
    "collapsed": true
   },
   "outputs": [],
   "source": [
    "import itertools\n",
    "import time\n",
    "import random\n",
    "import glob\n",
    "import PIL\n",
    "import asyncio\n",
    "import multiprocessing as mp\n",
    "import queue"
   ]
  },
  {
   "cell_type": "code",
   "execution_count": 34,
   "metadata": {
    "collapsed": false
   },
   "outputs": [
    {
     "name": "stdout",
     "output_type": "stream",
     "text": [
      "<PIL.BmpImagePlugin.BmpImageFile image mode=RGB size=1024x768 at 0x10A8D7A90>\n",
      "<PIL.BmpImagePlugin.BmpImageFile image mode=RGB size=1024x768 at 0x10A7E4748>\n",
      "<PIL.BmpImagePlugin.BmpImageFile image mode=RGB size=1024x768 at 0x10A8D7A90>\n",
      "<PIL.BmpImagePlugin.BmpImageFile image mode=RGB size=1024x768 at 0x10A7E4748>\n",
      "<PIL.BmpImagePlugin.BmpImageFile image mode=RGB size=1024x768 at 0x10A8D7A90>\n"
     ]
    }
   ],
   "source": [
    "# Cyclic simulation of image grabbing from a given mask (with waiting)\n",
    "\n",
    "IM_MASK= r'/Users/alex/Dropbox/PhD/CODE/DATA/IMG/feeder2/*'\n",
    "\n",
    "def event_generator(wait_func=lambda:time.sleep(random.random())):\n",
    "    while True:\n",
    "        wait_func()\n",
    "        yield\n",
    "        \n",
    "def grab_image(events):\n",
    "    images = itertools.cycle(glob.glob(IM_MASK))\n",
    "    for ev in events:\n",
    "        im_name = next(images)\n",
    "        im = PIL.Image.open(im_name)\n",
    "        yield im\n",
    "\n",
    "        \n",
    "images = grab_image(event_generator())\n",
    "\n",
    "for i in range(5):\n",
    "    im = next(images)\n",
    "    print(im)"
   ]
  },
  {
   "cell_type": "code",
   "execution_count": 5,
   "metadata": {
    "collapsed": true
   },
   "outputs": [],
   "source": []
  },
  {
   "cell_type": "code",
   "execution_count": null,
   "metadata": {
    "collapsed": false
   },
   "outputs": [],
   "source": []
  },
  {
   "cell_type": "code",
   "execution_count": null,
   "metadata": {
    "collapsed": false
   },
   "outputs": [],
   "source": []
  },
  {
   "cell_type": "code",
   "execution_count": null,
   "metadata": {
    "collapsed": false
   },
   "outputs": [],
   "source": []
  },
  {
   "cell_type": "code",
   "execution_count": null,
   "metadata": {
    "collapsed": false
   },
   "outputs": [],
   "source": []
  },
  {
   "cell_type": "code",
   "execution_count": null,
   "metadata": {
    "collapsed": true
   },
   "outputs": [],
   "source": []
  },
  {
   "cell_type": "code",
   "execution_count": null,
   "metadata": {
    "collapsed": true
   },
   "outputs": [],
   "source": []
  },
  {
   "cell_type": "code",
   "execution_count": null,
   "metadata": {
    "collapsed": false
   },
   "outputs": [],
   "source": []
  },
  {
   "cell_type": "code",
   "execution_count": null,
   "metadata": {
    "collapsed": true
   },
   "outputs": [],
   "source": []
  },
  {
   "cell_type": "code",
   "execution_count": null,
   "metadata": {
    "collapsed": false
   },
   "outputs": [],
   "source": []
  },
  {
   "cell_type": "code",
   "execution_count": null,
   "metadata": {
    "collapsed": false
   },
   "outputs": [],
   "source": []
  },
  {
   "cell_type": "code",
   "execution_count": null,
   "metadata": {
    "collapsed": true
   },
   "outputs": [],
   "source": []
  },
  {
   "cell_type": "code",
   "execution_count": null,
   "metadata": {
    "collapsed": true
   },
   "outputs": [],
   "source": []
  },
  {
   "cell_type": "code",
   "execution_count": null,
   "metadata": {
    "collapsed": false
   },
   "outputs": [],
   "source": [
    "def coroutine(func):\n",
    "    def wrapper(*args, **kvargs):\n",
    "        cr = func(*args, **kvargs)\n",
    "        next(cr)\n",
    "        return cr\n",
    "    return wrapper"
   ]
  },
  {
   "cell_type": "code",
   "execution_count": 36,
   "metadata": {
    "collapsed": false
   },
   "outputs": [
    {
     "name": "stdout",
     "output_type": "stream",
     "text": [
      "['hello', 'world', 'dfdf', 'yall!']\n"
     ]
    }
   ],
   "source": [
    "# Push-based coroutines\n",
    "\n",
    "@coroutine\n",
    "def source_coroutine(target):\n",
    "    while True:\n",
    "        msg = (yield)\n",
    "        target.send(msg.lower())   \n",
    "        \n",
    "@coroutine\n",
    "def sink_coroutine():\n",
    "    while True:\n",
    "        msg = (yield)\n",
    "        print(msg.split())\n",
    "        \n",
    "src = source_coroutine(sink_coroutine())\n",
    "src.send('Hello world dfdf yall!')"
   ]
  },
  {
   "cell_type": "code",
   "execution_count": null,
   "metadata": {
    "collapsed": false
   },
   "outputs": [],
   "source": []
  },
  {
   "cell_type": "code",
   "execution_count": null,
   "metadata": {
    "collapsed": false
   },
   "outputs": [],
   "source": []
  },
  {
   "cell_type": "code",
   "execution_count": null,
   "metadata": {
    "collapsed": true
   },
   "outputs": [],
   "source": []
  },
  {
   "cell_type": "code",
   "execution_count": 32,
   "metadata": {
    "collapsed": true
   },
   "outputs": [],
   "source": [
    "# Pull-based generators \n",
    "\n",
    "def src_gen(initial_strings):\n",
    "    # itertools.cycle(initial_strings)\n",
    "    for s in initial_strings:\n",
    "        time.sleep(0.5)\n",
    "        print(time.time(), 'Yielding a string ', s)\n",
    "        yield s\n",
    "        \n",
    "def lower_gen(in_g):\n",
    "    for msg in in_g:\n",
    "        time.sleep(1.0)\n",
    "        print(time.time(), 'Transforming ', msg, ' to lowercase')\n",
    "        yield msg.lower()\n",
    "        \n",
    "def splitter_gen(in_g):\n",
    "    for msg in in_g:\n",
    "        print(time.time(), 'Splitting ', msg)\n",
    "        yield msg.split()\n"
   ]
  },
  {
   "cell_type": "code",
   "execution_count": 37,
   "metadata": {
    "collapsed": false
   },
   "outputs": [
    {
     "name": "stdout",
     "output_type": "stream",
     "text": [
      "1474569038.272593 Yielding a string  Hello world!\n",
      "1474569039.274952 Transforming  Hello world!  to lowercase\n",
      "1474569039.275097 Splitting  hello world!\n",
      "1474569039.275122 Received  ['hello', 'world!']\n",
      "1474569039.779384 Yielding a string  Its beginning to look like Christmas...\n",
      "1474569040.783468 Transforming  Its beginning to look like Christmas...  to lowercase\n",
      "1474569040.783701 Splitting  its beginning to look like christmas...\n",
      "1474569040.783732 Received  ['its', 'beginning', 'to', 'look', 'like', 'christmas...']\n",
      "1474569041.2873 Yielding a string  Bello! Banana!\n",
      "1474569042.292056 Transforming  Bello! Banana!  to lowercase\n",
      "1474569042.292252 Splitting  bello! banana!\n",
      "1474569042.292307 Received  ['bello!', 'banana!']\n"
     ]
    }
   ],
   "source": [
    "def test_generators():\n",
    "    initial_strings = ['Hello world!', 'Its beginning to look like Christmas...', 'Bello! Banana!']\n",
    "\n",
    "    for res in splitter_gen(lower_gen(src_gen(initial_strings))):\n",
    "        print(time.time(), 'Received ', res) \n",
    "        \n",
    "test_generators()"
   ]
  },
  {
   "cell_type": "code",
   "execution_count": null,
   "metadata": {
    "collapsed": false
   },
   "outputs": [],
   "source": []
  },
  {
   "cell_type": "code",
   "execution_count": null,
   "metadata": {
    "collapsed": false
   },
   "outputs": [],
   "source": []
  },
  {
   "cell_type": "code",
   "execution_count": null,
   "metadata": {
    "collapsed": false
   },
   "outputs": [],
   "source": []
  },
  {
   "cell_type": "code",
   "execution_count": null,
   "metadata": {
    "collapsed": false
   },
   "outputs": [],
   "source": []
  },
  {
   "cell_type": "code",
   "execution_count": null,
   "metadata": {
    "collapsed": true
   },
   "outputs": [],
   "source": []
  }
 ],
 "metadata": {
  "anaconda-cloud": {},
  "kernelspec": {
   "display_name": "Python [py35]",
   "language": "python",
   "name": "Python [py35]"
  },
  "language_info": {
   "codemirror_mode": {
    "name": "ipython",
    "version": 3
   },
   "file_extension": ".py",
   "mimetype": "text/x-python",
   "name": "python",
   "nbconvert_exporter": "python",
   "pygments_lexer": "ipython3",
   "version": "3.5.2"
  }
 },
 "nbformat": 4,
 "nbformat_minor": 0
}
