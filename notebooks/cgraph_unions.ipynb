{
 "cells": [
  {
   "cell_type": "code",
   "execution_count": 1,
   "metadata": {},
   "outputs": [],
   "source": [
    "%matplotlib inline\n",
    "%load_ext autoreload\n",
    "%autoreload 2\n",
    "import sys, os\n",
    "opj = os.path.join\n",
    "CODE_DIR = os.path.abspath('../..')\n",
    "sys.path.append(opj(CODE_DIR, 'EPypes'))\n",
    "sys.path.append(opj(CODE_DIR, 'RPALib'))"
   ]
  },
  {
   "cell_type": "code",
   "execution_count": 8,
   "metadata": {
    "collapsed": true
   },
   "outputs": [],
   "source": [
    "import cv2\n",
    "from matplotlib import pyplot as plt\n",
    "import nxpd\n",
    "nxpd.nxpdParams['show'] = 'ipynb'"
   ]
  },
  {
   "cell_type": "code",
   "execution_count": 9,
   "metadata": {
    "collapsed": true
   },
   "outputs": [],
   "source": [
    "from epypes import compgraph\n",
    "from rpa.cbcalib import *"
   ]
  },
  {
   "cell_type": "code",
   "execution_count": 12,
   "metadata": {},
   "outputs": [
    {
     "data": {
      "text/plain": [
       "\"\\nadd_func_dict = {\\n            'prepare_corners': compgraph.FunctionPlaceholder(),\\n            'prepare_object_points': prepare_object_points,\\n            'calibrate_stereo': calibrate_stereo,\\n            'compute_rectification_transforms': cv2.stereoRectify\\n        }\\n\\nadd_func_io = {\\n    'prepare_corners': (('calibration_images_1', 'calibration_images_2', 'pattern_size_wh'), ('image_points_1', 'image_points_2', 'num_images')),\\n    'prepare_object_points': (('num_images', 'pattern_size_wh', 'square_size'), 'object_points'),\\n    'calibrate_stereo' : (('object_points', 'image_points_1', 'image_points_2', 'camera_matrix_1', 'dist_coefs_1', 'camera_matrix_2', 'dist_coefs_2', 'im_wh'),\\n                          ('stereo_rmat', 'stereo_tvec', 'essential_mat', 'fundamental_mat')),\\n    'compute_rectification_transforms': (('camera_matrix_1', 'dist_coefs_1', 'camera_matrix_2', 'dist_coefs_2', 'im_wh', 'stereo_rmat', 'stereo_tvec'),\\n                                         ('R1', 'R2', 'P1', 'P2', 'Q', 'validPixROI1', 'validPixROI2'))\\n}\\n\""
      ]
     },
     "execution_count": 12,
     "metadata": {},
     "output_type": "execute_result"
    }
   ],
   "source": [
    "'''\n",
    "add_func_dict = {\n",
    "            'prepare_corners': compgraph.FunctionPlaceholder(),\n",
    "            'prepare_object_points': prepare_object_points,\n",
    "            'calibrate_stereo': calibrate_stereo,\n",
    "            'compute_rectification_transforms': cv2.stereoRectify\n",
    "        }\n",
    "\n",
    "add_func_io = {\n",
    "    'prepare_corners': (('calibration_images_1', 'calibration_images_2', 'pattern_size_wh'), ('image_points_1', 'image_points_2', 'num_images')),\n",
    "    'prepare_object_points': (('num_images', 'pattern_size_wh', 'square_size'), 'object_points'),\n",
    "    'calibrate_stereo' : (('object_points', 'image_points_1', 'image_points_2', 'camera_matrix_1', 'dist_coefs_1', 'camera_matrix_2', 'dist_coefs_2', 'im_wh'),\n",
    "                          ('stereo_rmat', 'stereo_tvec', 'essential_mat', 'fundamental_mat')),\n",
    "    'compute_rectification_transforms': (('camera_matrix_1', 'dist_coefs_1', 'camera_matrix_2', 'dist_coefs_2', 'im_wh', 'stereo_rmat', 'stereo_tvec'),\n",
    "                                         ('R1', 'R2', 'P1', 'P2', 'Q', 'validPixROI1', 'validPixROI2'))\n",
    "}\n",
    "'''"
   ]
  },
  {
   "cell_type": "code",
   "execution_count": null,
   "metadata": {},
   "outputs": [],
   "source": [
    "twocams = compgraph.graph_union_with_suffixing(CGCalibrateCamera(), CGCalibrateCamera(), exclude=['im_wh'])\n",
    "\n",
    "add_func_dict = {'calibrate_stereo': compgraph.FunctionPlaceholder()}\n",
    "add_func_io = {'calibrate_stereo' : (('object_points', 'image_points_1', 'image_points_2', 'camera_matrix_1', 'dist_coefs_1', 'camera_matrix_2', 'dist_coefs_2', 'im_wh'), ('stereo_rmat', 'stereo_tvec', 'essential_mat', 'fundamental_mat'))}\n",
    "\n",
    "twocams_1 = compgraph.add_new_vertices(twocams, add_func_dict, add_func_io)\n",
    "\n",
    "nxpd.draw(twocams_1.to_networkx())"
   ]
  },
  {
   "cell_type": "code",
   "execution_count": null,
   "metadata": {},
   "outputs": [],
   "source": []
  },
  {
   "cell_type": "code",
   "execution_count": null,
   "metadata": {
    "collapsed": true
   },
   "outputs": [],
   "source": []
  }
 ],
 "metadata": {
  "kernelspec": {
   "display_name": "Python 3",
   "language": "python",
   "name": "python3"
  },
  "language_info": {
   "codemirror_mode": {
    "name": "ipython",
    "version": 3
   },
   "file_extension": ".py",
   "mimetype": "text/x-python",
   "name": "python",
   "nbconvert_exporter": "python",
   "pygments_lexer": "ipython3",
   "version": "3.6.1"
  }
 },
 "nbformat": 4,
 "nbformat_minor": 2
}
