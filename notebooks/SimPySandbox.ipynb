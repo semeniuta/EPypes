{
 "cells": [
  {
   "cell_type": "code",
   "execution_count": 1,
   "metadata": {
    "collapsed": true
   },
   "outputs": [],
   "source": [
    "# py35"
   ]
  },
  {
   "cell_type": "code",
   "execution_count": 2,
   "metadata": {
    "collapsed": false
   },
   "outputs": [],
   "source": [
    "%matplotlib inline\n",
    "%load_ext autoreload\n",
    "%autoreload 2\n",
    "import sys, os"
   ]
  },
  {
   "cell_type": "code",
   "execution_count": 3,
   "metadata": {
    "collapsed": false
   },
   "outputs": [],
   "source": [
    "import simpy\n",
    "import random"
   ]
  },
  {
   "cell_type": "code",
   "execution_count": 4,
   "metadata": {
    "collapsed": false
   },
   "outputs": [],
   "source": [
    "def get_process(env, name, duration_func):\n",
    "    \n",
    "    def p_gen(env):\n",
    "        while True:\n",
    "            \n",
    "            t = duration_func()\n",
    "            print('[{0}] {1}_start'.format(env.now, name))\n",
    "            yield env.timeout(t)\n",
    "            print('[{0}] {1}_stop'.format(env.now, name))\n",
    "            \n",
    "    p = env.process(p_gen(env))\n",
    "    return p\n",
    "    "
   ]
  },
  {
   "cell_type": "code",
   "execution_count": 5,
   "metadata": {
    "collapsed": false
   },
   "outputs": [
    {
     "name": "stdout",
     "output_type": "stream",
     "text": [
      "[0] p1_start\n",
      "[0] p2_start\n",
      "[5] p1_stop\n",
      "[5] p1_start\n",
      "[5.442309522232732] p2_stop\n",
      "[5.442309522232732] p2_start\n",
      "[10] p1_stop\n",
      "[10] p1_start\n",
      "[10.958066955648398] p2_stop\n",
      "[10.958066955648398] p2_start\n",
      "[15] p1_stop\n",
      "[15] p1_start\n",
      "[16.292531660299353] p2_stop\n",
      "[16.292531660299353] p2_start\n",
      "[20] p1_stop\n",
      "[20] p1_start\n",
      "[21.870869652140975] p2_stop\n",
      "[21.870869652140975] p2_start\n",
      "[25] p1_stop\n",
      "[25] p1_start\n",
      "[27.683502310660767] p2_stop\n",
      "[27.683502310660767] p2_start\n",
      "[30] p1_stop\n",
      "[30] p1_start\n",
      "[32.84007706416086] p2_stop\n",
      "[32.84007706416086] p2_start\n",
      "[35] p1_stop\n",
      "[35] p1_start\n",
      "[38.09371608368415] p2_stop\n",
      "[38.09371608368415] p2_start\n",
      "[40] p1_stop\n",
      "[40] p1_start\n",
      "[44.054020955059435] p2_stop\n",
      "[44.054020955059435] p2_start\n",
      "[45] p1_stop\n",
      "[45] p1_start\n",
      "[49.128397721793945] p2_stop\n",
      "[49.128397721793945] p2_start\n",
      "[50] p1_stop\n",
      "[50] p1_start\n",
      "[54.43337356378124] p2_stop\n",
      "[54.43337356378124] p2_start\n",
      "[55] p1_stop\n",
      "[55] p1_start\n",
      "[59.70377565518312] p2_stop\n",
      "[59.70377565518312] p2_start\n",
      "[60] p1_stop\n",
      "[60] p1_start\n",
      "[64.75825787960653] p2_stop\n",
      "[64.75825787960653] p2_start\n",
      "[65] p1_stop\n",
      "[65] p1_start\n",
      "[69.87755635368339] p2_stop\n",
      "[69.87755635368339] p2_start\n",
      "[70] p1_stop\n",
      "[70] p1_start\n",
      "[75] p1_stop\n",
      "[75] p1_start\n",
      "[75.84711778284371] p2_stop\n",
      "[75.84711778284371] p2_start\n",
      "[80] p1_stop\n",
      "[80] p1_start\n",
      "[81.65946201551981] p2_stop\n",
      "[81.65946201551981] p2_start\n",
      "[85] p1_stop\n",
      "[85] p1_start\n",
      "[87.65903721478465] p2_stop\n",
      "[87.65903721478465] p2_start\n",
      "[90] p1_stop\n",
      "[90] p1_start\n",
      "[93.03950819946537] p2_stop\n",
      "[93.03950819946537] p2_start\n",
      "[95] p1_stop\n",
      "[95] p1_start\n",
      "[98.33199945724543] p2_stop\n",
      "[98.33199945724543] p2_start\n"
     ]
    }
   ],
   "source": [
    "env = simpy.Environment()\n",
    "\n",
    "p1 = get_process(env, 'p1', lambda: 5)\n",
    "p2 = get_process(env, 'p2', lambda: 5 + random.random())\n",
    "\n",
    "env.run(until=100)\n"
   ]
  },
  {
   "cell_type": "code",
   "execution_count": 6,
   "metadata": {
    "collapsed": false
   },
   "outputs": [],
   "source": [
    "def parse_transition_func(tf_dict):\n",
    "    pe = dict()\n",
    "    for se_pair, new_s in tf_dict.items():\n",
    "        s, e = se_pair\n",
    "        if s not in pe:\n",
    "            pe[s] = [e]\n",
    "        else:\n",
    "            pe[s].append(e)\n",
    "\n",
    "    return pe\n",
    "\n",
    "def get_random_next_event(fsm):\n",
    "    ce = fsm.current_events\n",
    "    n = len(ce)\n",
    "    if n == 1:\n",
    "        return ce[0]\n",
    "    else:\n",
    "        i = random.randint(0, n-1)\n",
    "        return ce[i]\n",
    "\n",
    "class FSM:\n",
    "    def __init__(self, start, transition_func):\n",
    "        self.start = start\n",
    "        self.transition_func = transition_func\n",
    "        self.possible_events = parse_transition_func(transition_func)\n",
    "        \n",
    "        self.current = start\n",
    "        \n",
    "    @property\n",
    "    def current_events(self):\n",
    "        return self.possible_events[self.current]\n",
    "    \n",
    "    def advance(self, event):\n",
    "        if not event in self.current_events:\n",
    "            raise Exception()\n",
    "        \n",
    "        self.current = self.transition_func[(self.current, event)]\n",
    "        \n",
    "    def advance_random(self):\n",
    "        self.advance(get_random_next_event(self))\n",
    "        \n",
    "\n",
    "class SimpleProcess:\n",
    "    '''\n",
    "    An independent process with the defined duration function\n",
    "    '''\n",
    "\n",
    "    def __init__(self, name, env, duration_func, fsm):\n",
    "        self.name = name\n",
    "        self.env = env\n",
    "        self.duration_func = duration_func\n",
    "        self.fsm = fsm\n",
    "        \n",
    "        self.stats = {'total_time': 0}\n",
    "        \n",
    "        self.action = env.process(self.p_gen())\n",
    "    \n",
    "    def p_gen(self):\n",
    "        while True:\n",
    "            \n",
    "            next_event = get_random_next_event(self.fsm)\n",
    "            next_state = self.fsm.transition_func[(self.fsm.current, next_event)]\n",
    "            \n",
    "            t = self.duration_func[next_state]()\n",
    "            self.stats['total_time'] += t\n",
    "            \n",
    "            #self.print_event(next_event)\n",
    "            self.fsm.advance(next_event)\n",
    "            \n",
    "            print('now={0:.4f}\\t {1}:{2}!->{3} (will take {4})'.format(self.env.now, self.name, next_event, self.fsm.current, t))\n",
    "            yield env.timeout(t)\n",
    "            \n",
    "    def print_event(self, event_name):\n",
    "        print('[{0}] {1}_{2}'.format(self.env.now, self.name, event_name))\n",
    "        \n",
    "class ResourceUser(SimpleProcess):\n",
    "    def process_cycle(self):\n",
    "        print('Hello')\n",
    "        super(ResourceUser, self).process_cycle()"
   ]
  },
  {
   "cell_type": "code",
   "execution_count": null,
   "metadata": {
    "collapsed": false
   },
   "outputs": [],
   "source": []
  },
  {
   "cell_type": "code",
   "execution_count": null,
   "metadata": {
    "collapsed": false
   },
   "outputs": [],
   "source": []
  },
  {
   "cell_type": "code",
   "execution_count": null,
   "metadata": {
    "collapsed": false
   },
   "outputs": [],
   "source": []
  },
  {
   "cell_type": "code",
   "execution_count": null,
   "metadata": {
    "collapsed": true
   },
   "outputs": [],
   "source": []
  },
  {
   "cell_type": "code",
   "execution_count": null,
   "metadata": {
    "collapsed": true
   },
   "outputs": [],
   "source": []
  },
  {
   "cell_type": "code",
   "execution_count": 7,
   "metadata": {
    "collapsed": false
   },
   "outputs": [
    {
     "name": "stdout",
     "output_type": "stream",
     "text": [
      "now=0.0000\t p1:start!->running (will take 5)\n",
      "now=0.0000\t p2:stop!->idle (will take 1)\n",
      "now=1.0000\t p2:start!->running (will take 5.214945972898544)\n",
      "now=5.0000\t p1:stop!->idle (will take 1)\n",
      "now=6.0000\t p1:start!->running (will take 5)\n",
      "now=6.2149\t p2:stop!->idle (will take 1)\n",
      "now=7.2149\t p2:start!->running (will take 5.1010464591823546)\n",
      "now=11.0000\t p1:stop!->idle (will take 1)\n",
      "now=12.0000\t p1:start!->running (will take 5)\n",
      "now=12.3160\t p2:stop!->idle (will take 1)\n",
      "now=13.3160\t p2:start!->running (will take 5.981298522526966)\n",
      "now=17.0000\t p1:stop!->idle (will take 1)\n",
      "now=18.0000\t p1:start!->running (will take 5)\n",
      "now=19.2973\t p2:stop!->idle (will take 1)\n",
      "now=20.2973\t p2:start!->running (will take 5.24123836489194)\n",
      "now=23.0000\t p1:stop!->idle (will take 1)\n",
      "now=24.0000\t p1:start!->running (will take 5)\n",
      "now=25.5385\t p2:stop!->idle (will take 1)\n",
      "now=26.5385\t p2:start!->running (will take 5.167138459264913)\n",
      "now=29.0000\t p1:stop!->idle (will take 1)\n",
      "now=30.0000\t p1:start!->running (will take 5)\n",
      "now=31.7057\t p2:stop!->idle (will take 1)\n",
      "now=32.7057\t p2:start!->running (will take 5.765041430067649)\n",
      "now=35.0000\t p1:stop!->idle (will take 1)\n",
      "now=36.0000\t p1:start!->running (will take 5)\n",
      "now=38.4707\t p2:stop!->idle (will take 1)\n",
      "now=39.4707\t p2:start!->running (will take 5.533018948613131)\n",
      "now=41.0000\t p1:stop!->idle (will take 1)\n",
      "now=42.0000\t p1:start!->running (will take 5)\n",
      "now=45.0037\t p2:stop!->idle (will take 1)\n",
      "now=46.0037\t p2:start!->running (will take 5.334697717790587)\n",
      "now=47.0000\t p1:stop!->idle (will take 1)\n",
      "now=48.0000\t p1:start!->running (will take 5)\n"
     ]
    }
   ],
   "source": [
    "env = simpy.Environment()\n",
    "\n",
    "simple_fsm = FSM('idle', {('idle', 'start'): 'running', ('running', 'stop'): 'idle'})\n",
    "\n",
    "p1 = SimpleProcess('p1', env, {'idle': lambda: 1, 'running': lambda: 5}, simple_fsm)\n",
    "p2 = SimpleProcess('p2', env, {'idle': lambda: 1, 'running': lambda: 5 + random.random()}, simple_fsm)\n",
    "\n",
    "env.run(until=50)"
   ]
  },
  {
   "cell_type": "code",
   "execution_count": null,
   "metadata": {
    "collapsed": false
   },
   "outputs": [],
   "source": []
  },
  {
   "cell_type": "code",
   "execution_count": null,
   "metadata": {
    "collapsed": true
   },
   "outputs": [],
   "source": []
  },
  {
   "cell_type": "code",
   "execution_count": null,
   "metadata": {
    "collapsed": true
   },
   "outputs": [],
   "source": []
  },
  {
   "cell_type": "code",
   "execution_count": 8,
   "metadata": {
    "collapsed": false
   },
   "outputs": [
    {
     "data": {
      "text/plain": [
       "({'total_time': 53}, {'total_time': 51.33842587523609})"
      ]
     },
     "execution_count": 8,
     "metadata": {},
     "output_type": "execute_result"
    }
   ],
   "source": [
    "p1.stats, p2.stats"
   ]
  },
  {
   "cell_type": "code",
   "execution_count": 9,
   "metadata": {
    "collapsed": true
   },
   "outputs": [],
   "source": [
    "env = simpy.Environment()\n",
    "rsc = simpy.Resource(env, capacity=1)"
   ]
  },
  {
   "cell_type": "code",
   "execution_count": null,
   "metadata": {
    "collapsed": true
   },
   "outputs": [],
   "source": []
  },
  {
   "cell_type": "code",
   "execution_count": 10,
   "metadata": {
    "collapsed": false
   },
   "outputs": [
    {
     "name": "stdout",
     "output_type": "stream",
     "text": [
      "['a']\n",
      "['b', 'd']\n",
      "['e', 'c']\n"
     ]
    }
   ],
   "source": [
    "d1 = {'a': 1, 'b': 2, 'd': 4}\n",
    "d2 = {'a': 1, 'c': 12, 'e': 31}\n",
    "\n",
    "\n",
    "common = []\n",
    "diff1 = []\n",
    "diff2 = []\n",
    "for el in d1:\n",
    "    if el in d2:\n",
    "        common.append(el)\n",
    "    else:\n",
    "        diff1.append(el)\n",
    "\n",
    "for el in d2:\n",
    "    if el not in d1:\n",
    "        diff2.append(el)\n",
    "        \n",
    "print(common)\n",
    "print(diff1)\n",
    "print(diff2)\n"
   ]
  },
  {
   "cell_type": "code",
   "execution_count": 11,
   "metadata": {
    "collapsed": false
   },
   "outputs": [
    {
     "name": "stdout",
     "output_type": "stream",
     "text": [
      "2 False\n",
      "-8 False\n",
      "7 True\n",
      "8 True\n",
      "-2 False\n"
     ]
    }
   ],
   "source": [
    "lst = [0, -10, 5, 6, -4]\n",
    "def f(i):\n",
    "    return i+2\n",
    "def g(i):\n",
    "    return i>5\n",
    "\n",
    "\n",
    "for el in lst:\n",
    "    incr = f(el)\n",
    "    print(incr, g(incr))"
   ]
  },
  {
   "cell_type": "code",
   "execution_count": 12,
   "metadata": {
    "collapsed": false
   },
   "outputs": [
    {
     "data": {
      "text/plain": [
       "[1, 3, ['hello', 4, [[13.2, 45, 'world']], 'boo-ya!', 31], 12]"
      ]
     },
     "execution_count": 12,
     "metadata": {},
     "output_type": "execute_result"
    }
   ],
   "source": [
    "lst = [1, 3, ['hello', 4, [[13.2, 45, 'world']], 'boo-ya!', 31], 12]\n",
    "lst"
   ]
  },
  {
   "cell_type": "code",
   "execution_count": 13,
   "metadata": {
    "collapsed": false
   },
   "outputs": [
    {
     "data": {
      "text/plain": [
       "[1, 3, 'hello', 4, 13.2, 45, 'world', 'boo-ya!', 31, 12]"
      ]
     },
     "execution_count": 13,
     "metadata": {},
     "output_type": "execute_result"
    }
   ],
   "source": [
    "def flat_list(lst):\n",
    "\n",
    "    new_list = []\n",
    "    for el in lst:\n",
    "        if not type(el) is list:\n",
    "            new_list.append(el)\n",
    "        else:\n",
    "            unwrapped = flat_list(el)\n",
    "            new_list = new_list + unwrapped\n",
    "    \n",
    "    return new_list\n",
    "            \n",
    "flat_list(lst)"
   ]
  },
  {
   "cell_type": "code",
   "execution_count": null,
   "metadata": {
    "collapsed": false
   },
   "outputs": [],
   "source": []
  },
  {
   "cell_type": "code",
   "execution_count": null,
   "metadata": {
    "collapsed": true
   },
   "outputs": [],
   "source": []
  }
 ],
 "metadata": {
  "anaconda-cloud": {},
  "kernelspec": {
   "display_name": "Python [simpy-env]",
   "language": "python",
   "name": "Python [simpy-env]"
  },
  "language_info": {
   "codemirror_mode": {
    "name": "ipython",
    "version": 3
   },
   "file_extension": ".py",
   "mimetype": "text/x-python",
   "name": "python",
   "nbconvert_exporter": "python",
   "pygments_lexer": "ipython3",
   "version": "3.5.2"
  }
 },
 "nbformat": 4,
 "nbformat_minor": 0
}
